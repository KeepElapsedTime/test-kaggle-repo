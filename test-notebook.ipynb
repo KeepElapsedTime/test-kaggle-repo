{
  "nbformat": 4,
  "nbformat_minor": 0,
  "metadata": {
    "colab": {
      "provenance": []
    },
    "kernelspec": {
      "name": "python3",
      "display_name": "Python 3"
    },
    "language_info": {
      "name": "python"
    }
  },
  "cells": [
    {
      "cell_type": "code",
      "execution_count": null,
      "metadata": {
        "id": "uFEIlPuh-CFl"
      },
      "outputs": [],
      "source": [
        "from datetime import datetime\n",
        "print(datetime.now())"
      ]
    }
  ]
}